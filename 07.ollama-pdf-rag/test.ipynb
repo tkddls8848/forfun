{
 "cells": [
  {
   "cell_type": "code",
   "execution_count": 7,
   "metadata": {},
   "outputs": [],
   "source": [
    "# Ollama 모델 로드 및 테스트\n",
    "from langchain_community.chat_models import ChatOllama\n",
    "\n",
    "model = ChatOllama(model=\"gemma:7b-instruct\", temperature=0)\n",
    "\n",
    "response = model.invoke(\"겨울철에 내한성이 강한 나무에는 어떤 것이 있을까요?\")"
   ]
  },
  {
   "cell_type": "code",
   "execution_count": 8,
   "metadata": {},
   "outputs": [
    {
     "data": {
      "text/plain": [
       "AIMessage(content='겨울철에 내한성이 강한 나무는 다음과 같습니다.\\n\\n* **동백나무** : 동백나무는 겨울철에도 온도가 낮아지더라도 내한성이 강하여 손상을 입히기가 쉽지 않습니다.\\n* **오동나무** : 오동나무는 동백나무와 마찬가지로 내한성이 강하여 손상을 입히기가 쉽지 않습니다.\\n* **느린잎나무** : 느린잎나무는 겨울철에도 내한성이 강하여 손상을 입히기가 쉽지 않습니다.\\n* **참나무** : 참나무는 겨울철에도 내한성이 강하여 손상을 입히기가 쉽지 않습니다.\\n* **꽃나무** :꽃나무는 겨울철에도 내한성이 강하여 손상을 입히기가 쉽지 않습니다.', response_metadata={'model': 'gemma:7b-instruct', 'created_at': '2024-04-21T00:32:37.6390066Z', 'message': {'role': 'assistant', 'content': ''}, 'done': True, 'total_duration': 33737206500, 'load_duration': 7456666900, 'prompt_eval_count': 29, 'prompt_eval_duration': 1117902000, 'eval_count': 216, 'eval_duration': 25158538000}, id='run-65416b32-33e2-45a1-9d9f-0913149a436b-0')"
      ]
     },
     "execution_count": 8,
     "metadata": {},
     "output_type": "execute_result"
    }
   ],
   "source": [
    "response"
   ]
  },
  {
   "cell_type": "code",
   "execution_count": 1,
   "metadata": {},
   "outputs": [
    {
     "data": {
      "text/plain": [
       "'Lenovo ThinkSystem SR650 V3 Server\\nProduct Guide\\nThe Lenovo ThinkSystem SR650 V3 is an ideal 2-socket 2U rack server for small businesses up to large\\nenterprises that need industry-leading reliability, management, and security, as well as maximizing performance\\nand flexibility for future growth. The SR650 V3 is based on the new 5th generation Intel Xeon Scalable\\nprocessor family (formerly codenamed \"Emerald Rapids\").\\nThe SR650 V3 is designed to handle a wide range of workloads, such as databases, virtualization and cloud\\ncomputing, virtual desktop infrastructure (VDI), infrastructure security, systems management, enterprise\\napplications, collaboration/email, streaming media, web, and HPC.\\nFigure 1. Lenovo ThinkSystem SR650 V3 with 2.5-inch front drive bays (3.5-inch drive configurations also\\navailable)\\nDid you know?\\nThe SR650 V3 server has been designed to take advantage of the features of the 5th generation Intel Xeon\\nScalable processors, such as the full performance of 350W 64-core processors, support for 5600 MHz memory\\nand PCIe Gen 5.0 support. The SR650 V3 is a very configuration-rich offering, supporting more than 30\\ndifferent drive bay configurations in the front, middle and rear of the server and 5 different slot configurations at\\nthe rear of the server. This level of flexibility ensures that you can configure the server to meet the needs of\\nyour workload.\\nLenovo ThinkSystem SR650 V3 Server\\n1'"
      ]
     },
     "execution_count": 1,
     "metadata": {},
     "output_type": "execute_result"
    }
   ],
   "source": [
    "# PDF 문서 로드 및 텍스트 추출\n",
    "from langchain_community.document_loaders import PyPDFLoader\n",
    "\n",
    "loader = PyPDFLoader(\"sr650v3.pdf\", extract_images=False)\n",
    "pages = loader.load()\n",
    "pages[0].page_content"
   ]
  },
  {
   "cell_type": "code",
   "execution_count": 10,
   "metadata": {},
   "outputs": [
    {
     "name": "stdout",
     "output_type": "stream",
     "text": [
      "True\n"
     ]
    }
   ],
   "source": [
    "# 문장 임베딩 및 벡터 저장소 생성\n",
    "import torch\n",
    "from langchain.text_splitter import RecursiveCharacterTextSplitter\n",
    "from langchain_community.embeddings import HuggingFaceEmbeddings\n",
    "from langchain_community.vectorstores import Chroma\n",
    "\n",
    "print(torch.cuda.is_available())\n",
    "# 문서를 문장으로 분리\n",
    "text_splitter = RecursiveCharacterTextSplitter(\n",
    "    chunk_size=1000,\n",
    "    chunk_overlap=100,\n",
    ")\n",
    "\n",
    "docs = text_splitter.split_documents(pages)\n",
    "\n",
    "# 문장을 임베딩으로 변환하고 벡터 저장소에 저장\n",
    "embeddings = HuggingFaceEmbeddings(\n",
    "    model_name='jhgan/ko-sroberta-nli',\n",
    "    model_kwargs={'device':'cpu'},\n",
    "    encode_kwargs={'normalize_embeddings':True},\n",
    ")\n",
    "\n",
    "vectorstore = Chroma.from_documents(docs, embeddings)\n"
   ]
  },
  {
   "cell_type": "code",
   "execution_count": 23,
   "metadata": {},
   "outputs": [
    {
     "name": "stdout",
     "output_type": "stream",
     "text": [
      "4\n",
      "Processors\n",
      "The SR650 V3 supports processors in either the 5th Gen Intel Xeon Scalable Processor family or the 4th Gen\n",
      "Intel Xeon Scalable Processor family. The server supports one or two processors.\n",
      "Topics in this section:\n",
      "Processor options\n",
      "Processor features\n",
      "Intel On Demand feature licensing\n",
      "One-processor configurations\n",
      "Thermal requirements for processors\n",
      "Lenovo Neptune Processor DWC Module - Open-loop liquid cooling\n",
      "UEFI operating modes\n",
      "Processor options\n",
      "All supported processors have the following characteristics:\n",
      "8 DDR5 memory channels at 2 DIMMs per channel\n",
      "Up to 4 UPI links between processors at up to 20 GT/s\n",
      "80 PCIe 5.0 I/O lanes\n",
      "The following table lists the 5th Gen processors that are currently supported by the SR650 V3.\n",
      "Table 15. 5th Gen Intel Xeon Processor support\n",
      "Part\n",
      "number\n",
      "Feature\n",
      "code\n",
      "SKU\n",
      "Description\n",
      "Quantity\n",
      "supported\n",
      "CTO only\n",
      "BYVT\n",
      "3508U\n",
      "Intel Xeon Bronze 3508U 8C 125W 2.1GHz Processor\n",
      "1*\n",
      "4XG7A91456\n",
      "BYW3\n",
      "4509Y\n",
      "ThinkSystem SR650 V3 Intel Xeon Silver 4509Y 8C 125W 2.6GHz\n",
      "{'page': 24, 'source': 'sr650v3.pdf'}\n"
     ]
    }
   ],
   "source": [
    "# 검색 쿼리\n",
    "query = \"All Intel Xeon Silver CPU models list for SR650 V3 server\"\n",
    "\n",
    "# 가장 유사도가 높은 문장을 하나만 추출\n",
    "retriever = vectorstore.as_retriever(search_kwargs={'k': 4})\n",
    "\n",
    "docs = retriever.get_relevant_documents(query)\n",
    "print(len(docs))\n",
    "print(docs[0].page_content)\n",
    "print(docs[0].metadata)"
   ]
  },
  {
   "cell_type": "code",
   "execution_count": 21,
   "metadata": {},
   "outputs": [
    {
     "name": "stdout",
     "output_type": "stream",
     "text": [
      "Processors\n",
      "The SR650 V3 supports processors in either the 5th Gen Intel Xeon Scalable Processor family or the 4th Gen\n",
      "Intel Xeon Scalable Processor family. The server supports one or two processors.\n",
      "Topics in this section:\n",
      "Processor options\n",
      "Processor features\n",
      "Intel On Demand feature licensing\n",
      "One-processor configurations\n",
      "Thermal requirements for processors\n",
      "Lenovo Neptune Processor DWC Module - Open-loop liquid cooling\n",
      "UEFI operating modes\n",
      "Processor options\n",
      "All supported processors have the following characteristics:\n",
      "8 DDR5 memory channels at 2 DIMMs per channel\n",
      "Up to 4 UPI links between processors at up to 20 GT/s\n",
      "80 PCIe 5.0 I/O lanes\n",
      "The following table lists the 5th Gen processors that are currently supported by the SR650 V3.\n",
      "Table 15. 5th Gen Intel Xeon Processor support\n",
      "Part\n",
      "number\n",
      "Feature\n",
      "code\n",
      "SKU\n",
      "Description\n",
      "Quantity\n",
      "supported\n",
      "CTO only\n",
      "BYVT\n",
      "3508U\n",
      "Intel Xeon Bronze 3508U 8C 125W 2.1GHz Processor\n",
      "1*\n",
      "4XG7A91456\n",
      "BYW3\n",
      "4509Y\n",
      "ThinkSystem SR650 V3 Intel Xeon Silver 4509Y 8C 125W 2.6GHz\n",
      "{'page': 24, 'source': 'sr650v3.pdf'}\n"
     ]
    }
   ],
   "source": [
    "print(docs[1].page_content)\n",
    "print(docs[1].metadata)"
   ]
  },
  {
   "cell_type": "code",
   "execution_count": 24,
   "metadata": {},
   "outputs": [],
   "source": [
    "from langchain.prompts import ChatPromptTemplate\n",
    "from langchain.schema.output_parser import StrOutputParser\n",
    "from langchain.schema.runnable import RunnablePassthrough\n",
    "\n",
    "\n",
    "# Prompt\n",
    "template = '''Answer the question based only on the following context:\n",
    "{context}\n",
    "\n",
    "Question: {question}\n",
    "'''\n",
    "\n",
    "prompt = ChatPromptTemplate.from_template(template)\n",
    "\n",
    "\n",
    "def format_docs(docs):\n",
    "    return '\\n\\n'.join([d.page_content for d in docs])\n",
    "\n",
    "# RAG Chain 연결\n",
    "rag_chain = (\n",
    "    {'context': retriever | format_docs, 'question': RunnablePassthrough()}\n",
    "    | prompt\n",
    "    | model\n",
    "    | StrOutputParser()\n",
    ")\n",
    "\n",
    "# Chain 실행\n",
    "query = \"4509Y CPU 2개 설치가 가능한가?\"\n",
    "rag_chain.invoke(query)\n"
   ]
  },
  {
   "cell_type": "code",
   "execution_count": 24,
   "metadata": {},
   "outputs": [
    {
     "data": {
      "text/plain": [
       "'겨울철에 추위에 약한 나무는 삼나무, 편백, 금송, 히말라야시다, 배롱나무, 파라칸타, 동백나무, 후박나무, 먼나무 등 주로 남부 지역에서 자라는 수종과 자목련, 사철나무, 가이즈까향나무, 능소화, 벽오동, 오동나무 등입니다.'"
      ]
     },
     "execution_count": 24,
     "metadata": {},
     "output_type": "execute_result"
    }
   ],
   "source": [
    "query = \"겨울철에 추위에 약한 나무에는 어떤 것이 있을까요?\"\n",
    "rag_chain.invoke(query)"
   ]
  }
 ],
 "metadata": {
  "kernelspec": {
   "display_name": "ollama-pdf-rag-j5v6ObUr-py3.11",
   "language": "python",
   "name": "python3"
  },
  "language_info": {
   "codemirror_mode": {
    "name": "ipython",
    "version": 3
   },
   "file_extension": ".py",
   "mimetype": "text/x-python",
   "name": "python",
   "nbconvert_exporter": "python",
   "pygments_lexer": "ipython3",
   "version": "3.11.6"
  }
 },
 "nbformat": 4,
 "nbformat_minor": 2
}
